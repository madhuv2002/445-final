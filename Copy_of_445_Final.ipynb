{
  "cells": [
    {
      "cell_type": "code",
      "execution_count": 134,
      "metadata": {
        "id": "u7Ys_RYvgUZa",
        "outputId": "a65e45e7-dddf-479a-fe1d-6b22010f300b",
        "colab": {
          "base_uri": "https://localhost:8080/"
        }
      },
      "outputs": [
        {
          "output_type": "stream",
          "name": "stdout",
          "text": [
            "\u001b[33mWARNING: Skipping opencv-python as it is not installed.\u001b[0m\u001b[33m\n",
            "\u001b[0mLooking in indexes: https://pypi.org/simple, https://us-python.pkg.dev/colab-wheels/public/simple/\n",
            "Collecting opencv-contrib-python\n",
            "  Using cached opencv_contrib_python-4.7.0.72-cp37-abi3-manylinux_2_17_x86_64.manylinux2014_x86_64.whl (67.9 MB)\n",
            "Collecting numpy>=1.17.3\n",
            "  Using cached numpy-1.24.3-cp310-cp310-manylinux_2_17_x86_64.manylinux2014_x86_64.whl (17.3 MB)\n",
            "Installing collected packages: numpy, opencv-contrib-python\n",
            "  Attempting uninstall: numpy\n",
            "    Found existing installation: numpy 1.24.3\n",
            "    Uninstalling numpy-1.24.3:\n",
            "      Successfully uninstalled numpy-1.24.3\n",
            "  Attempting uninstall: opencv-contrib-python\n",
            "    Found existing installation: opencv-contrib-python 4.7.0.72\n",
            "    Uninstalling opencv-contrib-python-4.7.0.72:\n",
            "      Successfully uninstalled opencv-contrib-python-4.7.0.72\n",
            "\u001b[31mERROR: pip's dependency resolver does not currently take into account all the packages that are installed. This behaviour is the source of the following dependency conflicts.\n",
            "imgaug 0.4.0 requires opencv-python, which is not installed.\n",
            "dopamine-rl 4.0.6 requires opencv-python>=3.4.8.29, which is not installed.\n",
            "tensorflow 2.12.0 requires numpy<1.24,>=1.22, but you have numpy 1.24.3 which is incompatible.\n",
            "numba 0.56.4 requires numpy<1.24,>=1.18, but you have numpy 1.24.3 which is incompatible.\u001b[0m\u001b[31m\n",
            "\u001b[0mSuccessfully installed numpy-1.24.3 opencv-contrib-python-4.7.0.72\n",
            "Looking in indexes: https://pypi.org/simple, https://us-python.pkg.dev/colab-wheels/public/simple/\n",
            "Requirement already satisfied: ffmpeg-python in /usr/local/lib/python3.10/dist-packages (0.2.0)\n",
            "Requirement already satisfied: future in /usr/local/lib/python3.10/dist-packages (from ffmpeg-python) (0.18.3)\n"
          ]
        }
      ],
      "source": [
        "import cv2\n",
        "import dlib\n",
        "import numpy as np\n",
        "!pip uninstall opencv-python -y\n",
        "# downgrade OpenCV a bit to use SIFT\n",
        "!pip install opencv-contrib-python --force-reinstall\n",
        "!pip install ffmpeg-python # for converting to video\n",
        "\n",
        "import ffmpeg\n",
        "import cv2\n",
        "import numpy as np\n",
        "import os\n",
        "from numpy.linalg import svd, inv\n",
        "import utils\n",
        "%matplotlib inline\n",
        "from matplotlib import pyplot as plt"
      ]
    },
    {
      "cell_type": "code",
      "source": [
        "import os\n",
        "os.mkdir('video')"
      ],
      "metadata": {
        "id": "sOTG169kM7JM"
      },
      "execution_count": null,
      "outputs": []
    },
    {
      "cell_type": "code",
      "source": [
        "utils.video2imageFolder('Untitled.mov', 'video')"
      ],
      "metadata": {
        "id": "ZY_rwqSxM0kY"
      },
      "execution_count": 135,
      "outputs": []
    },
    {
      "cell_type": "code",
      "source": [
        "# read all the images\n",
        "import os \n",
        "dir_frames = 'video'\n",
        "filenames = []\n",
        "filesinfo = os.scandir(dir_frames)\n",
        "\n",
        "filenames = [f.path for f in filesinfo if f.name.endswith(\".jpg\")]\n",
        "filenames.sort(key=lambda f: int(''.join(filter(str.isdigit, f))))\n",
        "\n",
        "frameCount = len(filenames)\n",
        "frameHeight, frameWidth, frameChannels = cv2.imread(filenames[0]).shape\n",
        "frames = np.zeros((frameCount, frameHeight, frameWidth, frameChannels),dtype='uint8')\n",
        "\n",
        "for idx, file_i in enumerate(filenames):\n",
        "  frames[idx] = cv2.imread(file_i)"
      ],
      "metadata": {
        "id": "zvOP6h9wGEmo"
      },
      "execution_count": 136,
      "outputs": []
    },
    {
      "cell_type": "code",
      "execution_count": 137,
      "metadata": {
        "id": "kWi3PjXUtztf"
      },
      "outputs": [],
      "source": [
        "def warpImgs(face, body):\n",
        "  #https://pysource.com/2019/05/28/face-swapping-explained-in-8-steps-opencv-with-python/\n",
        "  face1 = cv2.cvtColor(face, cv2.COLOR_BGR2GRAY)\n",
        "  body1 = cv2.cvtColor(body, cv2.COLOR_BGR2GRAY)\n",
        "\n",
        "  detector = dlib.get_frontal_face_detector()\n",
        "  predictor = dlib.shape_predictor(\"./shape_predictor_68_face_landmarks.dat\")\n",
        "\n",
        "  landmarks = predictor(face1, detector(face1)[0])\n",
        "  landmarks_points = [] \n",
        "\n",
        "  for n in range(68):\n",
        "      x = landmarks.part(n).x\n",
        "      y = landmarks.part(n).y\n",
        "      landmarks_points.append((x, y))\n",
        "\n",
        "  points = np.array(landmarks_points)\n",
        "  subdiv = cv2.Subdiv2D(cv2.boundingRect(cv2.convexHull(points)))\n",
        "  subdiv.insert(landmarks_points)\n",
        "  triangles = subdiv.getTriangleList()\n",
        "  triangles = np.array(triangles, dtype=np.int32)\n",
        "\n",
        "  indexes_triangles = []\n",
        "\n",
        "  def extract_index_nparray(arr):\n",
        "      index = 0\n",
        "      if arr[0]:\n",
        "          index = arr[0][0]\n",
        "      return index\n",
        "\n",
        "  for triangle in triangles:\n",
        "      pt1 = (triangle[0], triangle[1])\n",
        "      pt2 = (triangle[2], triangle[3])\n",
        "      pt3 = (triangle[4], triangle[5])\n",
        "\n",
        "      index_pt1 = np.where((points == pt1).all(axis=1))\n",
        "      index_pt1 = extract_index_nparray(index_pt1)\n",
        "      index_pt2 = np.where((points == pt2).all(axis=1))\n",
        "      index_pt2 = extract_index_nparray(index_pt2)\n",
        "      index_pt3 = np.where((points == pt3).all(axis=1))\n",
        "      index_pt3 = extract_index_nparray(index_pt3)\n",
        "\n",
        "      if index_pt1 is not None and index_pt2 is not None and index_pt3 is not None:\n",
        "          vertices = [index_pt1, index_pt2, index_pt3]\n",
        "          indexes_triangles.append(vertices)\n",
        " \n",
        "  landmarks_2 = predictor(body1, detector(body1)[0])\n",
        "  landmarks_points2 = []\n",
        "\n",
        "  for n in range(68):\n",
        "      x = landmarks_2.part(n).x\n",
        "      y = landmarks_2.part(n).y\n",
        "      landmarks_points2.append((x, y))\n",
        "\n",
        "  convexhull2 = cv2.convexHull(np.array(landmarks_points2))\n",
        "\n",
        "  warp_face = np.zeros((body.shape[0], body.shape[1], body.shape[2]), np.uint8)\n",
        "\n",
        "  def get_landmark_one(triangle, landmark):\n",
        "      pt1 = landmark[triangle[0]]\n",
        "      pt2 = landmark[triangle[1]]\n",
        "      pt3 = landmark[triangle[2]]\n",
        "\n",
        "      (x, y, width, height) = cv2.boundingRect(np.array([pt1, pt2, pt3], np.int32))\n",
        "      cropped_triangle = face[y: y+height, x: x+width]\n",
        "      cropped_mask = np.zeros((height, width), np.uint8)\n",
        "\n",
        "      points = np.array([[pt1[0]-x, pt1[1]-y], [pt2[0]-x, pt2[1]-y], [pt3[0]-x, pt3[1]-y]], np.int32)\n",
        "      cv2.fillConvexPoly(cropped_mask, points, 255)\n",
        "\n",
        "      return np.float32(points), cropped_mask, cropped_triangle\n",
        "\n",
        "  for triangle in indexes_triangles:\n",
        "      points, cropped_mask, cropped_triangle = get_landmark_one(triangle, landmarks_points)\n",
        "      \n",
        "      pt1 = landmarks_points2[triangle[0]]\n",
        "      pt2 = landmarks_points2[triangle[1]]\n",
        "      pt3 = landmarks_points2[triangle[2]]\n",
        "\n",
        "      (x, y, width, height) = cv2.boundingRect(np.array([pt1, pt2, pt3], np.int32))\n",
        "      cropped_mask2 = np.zeros((height,width), np.uint8)\n",
        "\n",
        "      points2 = np.array([[pt1[0]-x, pt1[1]-y], [pt2[0]-x, pt2[1]-y], [pt3[0]-x, pt3[1]-y]], np.int32)\n",
        "      cv2.fillConvexPoly(cropped_mask2, points2, 255)\n",
        "\n",
        "      points2 = np.float32(points2)\n",
        "      M = cv2.getAffineTransform(points, points2)\n",
        "      warped_triangle = cv2.warpAffine(cropped_triangle, M, (width, height))\n",
        "      warped_triangle = cv2.bitwise_and(warped_triangle, warped_triangle, mask=cropped_mask2)\n",
        "\n",
        "      new_img = cv2.cvtColor(warp_face[y: y+height, x: x+width], cv2.COLOR_BGR2GRAY)\n",
        "\n",
        "      masked_triangle = cv2.threshold(new_img, 1, 255, cv2.THRESH_BINARY_INV)\n",
        "      warped_triangle = cv2.bitwise_and(warped_triangle, warped_triangle, mask=masked_triangle[1])\n",
        "\n",
        "      warped_img = cv2.add(warp_face[y: y+height, x: x+width], warped_triangle)\n",
        "      warp_face[y: y+height, x: x+width] = warped_img\n",
        "    \n",
        "\n",
        "  face_mask = np.zeros_like(body1)\n",
        "  body_mask = cv2.fillConvexPoly(face_mask, convexhull2, 255)\n",
        "  face_mask = cv2.bitwise_not(body_mask)\n",
        "\n",
        "  maskless = cv2.bitwise_and(body, body, mask=face_mask)\n",
        "  result = cv2.add(maskless, warp_face)\n",
        "\n",
        "  (x, y, width, height) = cv2.boundingRect(convexhull2)\n",
        "\n",
        "  seamlessclone = cv2.seamlessClone(result, body, body_mask, (int(((x*2)+width)/2), int(((y*2)+height)/2)), cv2.NORMAL_CLONE)\n",
        "  return seamlessclone"
      ]
    },
    {
      "cell_type": "code",
      "source": [
        "# import shutil\n",
        "# shutil.rmtree('warped')\n",
        "os.mkdir('warped')"
      ],
      "metadata": {
        "id": "UcGe-vIjHXIL"
      },
      "execution_count": 139,
      "outputs": []
    },
    {
      "cell_type": "code",
      "source": [
        "img1 = cv2.imread(\"emma.jpg\")\n",
        "\n",
        "# create your video (see tips)\n",
        "for idx, file_i in enumerate(filenames):\n",
        "    img = cv2.imread(file_i)\n",
        "    img2 = warpImgs(img, img1)\n",
        "            \n",
        "    cv2.imwrite(\"warped/wp{:04d}.jpg\".format(idx), img2)"
      ],
      "metadata": {
        "id": "0mtx1DmoHNDB"
      },
      "execution_count": 140,
      "outputs": []
    },
    {
      "cell_type": "code",
      "source": [
        "utils.imageFolder2mpeg('warped', fps=30,  output_path='warpedVid.mpeg')"
      ],
      "metadata": {
        "id": "Fp5e9iKBHtsS"
      },
      "execution_count": 142,
      "outputs": []
    }
  ],
  "metadata": {
    "colab": {
      "provenance": []
    },
    "kernelspec": {
      "display_name": "Python 3",
      "language": "python",
      "name": "python3"
    },
    "language_info": {
      "codemirror_mode": {
        "name": "ipython",
        "version": 3
      },
      "file_extension": ".py",
      "mimetype": "text/x-python",
      "name": "python",
      "nbconvert_exporter": "python",
      "pygments_lexer": "ipython3",
      "version": "3.8.2"
    }
  },
  "nbformat": 4,
  "nbformat_minor": 0
}